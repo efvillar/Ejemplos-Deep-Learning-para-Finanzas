{
 "cells": [
  {
   "cell_type": "markdown",
   "metadata": {},
   "source": [
    "# Ejemplo de Autoencoder para replicar un índice"
   ]
  },
  {
   "cell_type": "markdown",
   "metadata": {},
   "source": [
    "Ejemplo copiado del libro Hands on Deep Learning for Finance"
   ]
  },
  {
   "cell_type": "markdown",
   "metadata": {},
   "source": [
    "Esta estrategia de inversión pasiva consitente en la inversión en un índice, sin embargo no es posible invertir directamente en un indice sino en la canasta de activos que lo componen.  Esta canasta de activos debe rebalancearse periodicamente según los cambios en el precio de cada activo y los cambios de la importacia de cada acción en el índice.   Lograr replicar un índice usando un número menor de activos, permite minimizar los costos de rebalanceo sin perder los beneficios de la inversión pasiva."
   ]
  },
  {
   "cell_type": "markdown",
   "metadata": {},
   "source": [
    "El uso de autoencoders permite reducir la dimensionalidad de los datos conservando la mayor parte de la información.  "
   ]
  },
  {
   "cell_type": "markdown",
   "metadata": {},
   "source": [
    "## Cargar librerias"
   ]
  },
  {
   "cell_type": "code",
   "execution_count": 1,
   "metadata": {},
   "outputs": [
    {
     "name": "stderr",
     "output_type": "stream",
     "text": [
      "Using TensorFlow backend.\n"
     ]
    }
   ],
   "source": [
    "import pandas as pd\n",
    "import numpy as np\n",
    "from scipy import stats\n",
    "\n",
    "import matplotlib.pyplot as plt\n",
    "\n",
    "from sklearn.preprocessing import MinMaxScaler\n",
    "\n",
    "from keras.layers import Input, Dense\n",
    "from keras.models import Model, Sequential\n",
    "from keras import regularizers"
   ]
  },
  {
   "cell_type": "code",
   "execution_count": 34,
   "metadata": {},
   "outputs": [],
   "source": [
    "seed = 0 \n",
    "np.random.seed(seed)"
   ]
  },
  {
   "cell_type": "markdown",
   "metadata": {},
   "source": [
    "## Cargar datos"
   ]
  },
  {
   "cell_type": "code",
   "execution_count": 35,
   "metadata": {},
   "outputs": [
    {
     "name": "stdout",
     "output_type": "stream",
     "text": [
      "Datos de Acciones (series de tiempo) shape: (1510, 98)\n",
      "Datos del Indice (serie de tiempo) shape: (1510,)\n"
     ]
    },
    {
     "data": {
      "text/html": [
       "<div>\n",
       "<style scoped>\n",
       "    .dataframe tbody tr th:only-of-type {\n",
       "        vertical-align: middle;\n",
       "    }\n",
       "\n",
       "    .dataframe tbody tr th {\n",
       "        vertical-align: top;\n",
       "    }\n",
       "\n",
       "    .dataframe thead th {\n",
       "        text-align: right;\n",
       "    }\n",
       "</style>\n",
       "<table border=\"1\" class=\"dataframe\">\n",
       "  <thead>\n",
       "    <tr style=\"text-align: right;\">\n",
       "      <th></th>\n",
       "      <th>ATVI</th>\n",
       "      <th>ADBE</th>\n",
       "      <th>AMD</th>\n",
       "      <th>ALXN</th>\n",
       "      <th>ALGN</th>\n",
       "      <th>GOOGL</th>\n",
       "      <th>GOOG</th>\n",
       "      <th>AMZN</th>\n",
       "      <th>AAL</th>\n",
       "      <th>AMGN</th>\n",
       "      <th>...</th>\n",
       "      <th>VRSN</th>\n",
       "      <th>VRSK</th>\n",
       "      <th>VRTX</th>\n",
       "      <th>WBA</th>\n",
       "      <th>WDAY</th>\n",
       "      <th>WDC</th>\n",
       "      <th>WLTW</th>\n",
       "      <th>WYNN</th>\n",
       "      <th>XEL</th>\n",
       "      <th>XLNX</th>\n",
       "    </tr>\n",
       "    <tr>\n",
       "      <th>Date</th>\n",
       "      <th></th>\n",
       "      <th></th>\n",
       "      <th></th>\n",
       "      <th></th>\n",
       "      <th></th>\n",
       "      <th></th>\n",
       "      <th></th>\n",
       "      <th></th>\n",
       "      <th></th>\n",
       "      <th></th>\n",
       "      <th></th>\n",
       "      <th></th>\n",
       "      <th></th>\n",
       "      <th></th>\n",
       "      <th></th>\n",
       "      <th></th>\n",
       "      <th></th>\n",
       "      <th></th>\n",
       "      <th></th>\n",
       "      <th></th>\n",
       "      <th></th>\n",
       "    </tr>\n",
       "  </thead>\n",
       "  <tbody>\n",
       "    <tr>\n",
       "      <td>2013-01-02</td>\n",
       "      <td>10.310681</td>\n",
       "      <td>38.340000</td>\n",
       "      <td>2.53</td>\n",
       "      <td>100.050003</td>\n",
       "      <td>28.400000</td>\n",
       "      <td>361.987000</td>\n",
       "      <td>359.288177</td>\n",
       "      <td>257.309998</td>\n",
       "      <td>13.317790</td>\n",
       "      <td>76.250526</td>\n",
       "      <td>...</td>\n",
       "      <td>39.849998</td>\n",
       "      <td>52.786572</td>\n",
       "      <td>43.650002</td>\n",
       "      <td>33.046200</td>\n",
       "      <td>52.910000</td>\n",
       "      <td>36.001884</td>\n",
       "      <td>83.655464</td>\n",
       "      <td>99.407043</td>\n",
       "      <td>21.625166</td>\n",
       "      <td>31.863600</td>\n",
       "    </tr>\n",
       "    <tr>\n",
       "      <td>2013-01-03</td>\n",
       "      <td>10.367179</td>\n",
       "      <td>37.750000</td>\n",
       "      <td>2.49</td>\n",
       "      <td>98.480003</td>\n",
       "      <td>29.170000</td>\n",
       "      <td>362.197205</td>\n",
       "      <td>359.496826</td>\n",
       "      <td>258.480011</td>\n",
       "      <td>13.012948</td>\n",
       "      <td>75.771561</td>\n",
       "      <td>...</td>\n",
       "      <td>40.029999</td>\n",
       "      <td>53.394344</td>\n",
       "      <td>45.150002</td>\n",
       "      <td>32.811760</td>\n",
       "      <td>52.299999</td>\n",
       "      <td>35.653797</td>\n",
       "      <td>84.510071</td>\n",
       "      <td>100.476288</td>\n",
       "      <td>21.561975</td>\n",
       "      <td>31.803463</td>\n",
       "    </tr>\n",
       "    <tr>\n",
       "      <td>2013-01-04</td>\n",
       "      <td>10.517838</td>\n",
       "      <td>38.130001</td>\n",
       "      <td>2.59</td>\n",
       "      <td>97.620003</td>\n",
       "      <td>29.309999</td>\n",
       "      <td>369.354340</td>\n",
       "      <td>366.600616</td>\n",
       "      <td>259.149994</td>\n",
       "      <td>14.032263</td>\n",
       "      <td>76.105133</td>\n",
       "      <td>...</td>\n",
       "      <td>40.040001</td>\n",
       "      <td>53.304672</td>\n",
       "      <td>45.849998</td>\n",
       "      <td>32.282124</td>\n",
       "      <td>52.189999</td>\n",
       "      <td>35.537758</td>\n",
       "      <td>84.485657</td>\n",
       "      <td>101.688660</td>\n",
       "      <td>21.640961</td>\n",
       "      <td>31.356745</td>\n",
       "    </tr>\n",
       "    <tr>\n",
       "      <td>2013-01-07</td>\n",
       "      <td>10.527254</td>\n",
       "      <td>37.939999</td>\n",
       "      <td>2.67</td>\n",
       "      <td>97.309998</td>\n",
       "      <td>28.940001</td>\n",
       "      <td>367.742737</td>\n",
       "      <td>365.001007</td>\n",
       "      <td>268.459991</td>\n",
       "      <td>14.137052</td>\n",
       "      <td>75.720253</td>\n",
       "      <td>...</td>\n",
       "      <td>40.060001</td>\n",
       "      <td>53.065544</td>\n",
       "      <td>47.290001</td>\n",
       "      <td>33.020153</td>\n",
       "      <td>52.169998</td>\n",
       "      <td>35.554348</td>\n",
       "      <td>84.241486</td>\n",
       "      <td>102.033867</td>\n",
       "      <td>21.411921</td>\n",
       "      <td>31.227875</td>\n",
       "    </tr>\n",
       "    <tr>\n",
       "      <td>2013-01-08</td>\n",
       "      <td>10.348347</td>\n",
       "      <td>38.139999</td>\n",
       "      <td>2.67</td>\n",
       "      <td>97.489998</td>\n",
       "      <td>28.250000</td>\n",
       "      <td>367.017029</td>\n",
       "      <td>364.280701</td>\n",
       "      <td>266.380005</td>\n",
       "      <td>14.441895</td>\n",
       "      <td>75.395241</td>\n",
       "      <td>...</td>\n",
       "      <td>39.889999</td>\n",
       "      <td>53.703217</td>\n",
       "      <td>48.500000</td>\n",
       "      <td>33.141697</td>\n",
       "      <td>51.869999</td>\n",
       "      <td>34.791882</td>\n",
       "      <td>83.826393</td>\n",
       "      <td>101.949684</td>\n",
       "      <td>21.451403</td>\n",
       "      <td>30.592144</td>\n",
       "    </tr>\n",
       "  </tbody>\n",
       "</table>\n",
       "<p>5 rows × 98 columns</p>\n",
       "</div>"
      ],
      "text/plain": [
       "                 ATVI       ADBE   AMD        ALXN       ALGN       GOOGL  \\\n",
       "Date                                                                        \n",
       "2013-01-02  10.310681  38.340000  2.53  100.050003  28.400000  361.987000   \n",
       "2013-01-03  10.367179  37.750000  2.49   98.480003  29.170000  362.197205   \n",
       "2013-01-04  10.517838  38.130001  2.59   97.620003  29.309999  369.354340   \n",
       "2013-01-07  10.527254  37.939999  2.67   97.309998  28.940001  367.742737   \n",
       "2013-01-08  10.348347  38.139999  2.67   97.489998  28.250000  367.017029   \n",
       "\n",
       "                  GOOG        AMZN        AAL       AMGN  ...       VRSN  \\\n",
       "Date                                                      ...              \n",
       "2013-01-02  359.288177  257.309998  13.317790  76.250526  ...  39.849998   \n",
       "2013-01-03  359.496826  258.480011  13.012948  75.771561  ...  40.029999   \n",
       "2013-01-04  366.600616  259.149994  14.032263  76.105133  ...  40.040001   \n",
       "2013-01-07  365.001007  268.459991  14.137052  75.720253  ...  40.060001   \n",
       "2013-01-08  364.280701  266.380005  14.441895  75.395241  ...  39.889999   \n",
       "\n",
       "                 VRSK       VRTX        WBA       WDAY        WDC       WLTW  \\\n",
       "Date                                                                           \n",
       "2013-01-02  52.786572  43.650002  33.046200  52.910000  36.001884  83.655464   \n",
       "2013-01-03  53.394344  45.150002  32.811760  52.299999  35.653797  84.510071   \n",
       "2013-01-04  53.304672  45.849998  32.282124  52.189999  35.537758  84.485657   \n",
       "2013-01-07  53.065544  47.290001  33.020153  52.169998  35.554348  84.241486   \n",
       "2013-01-08  53.703217  48.500000  33.141697  51.869999  34.791882  83.826393   \n",
       "\n",
       "                  WYNN        XEL       XLNX  \n",
       "Date                                          \n",
       "2013-01-02   99.407043  21.625166  31.863600  \n",
       "2013-01-03  100.476288  21.561975  31.803463  \n",
       "2013-01-04  101.688660  21.640961  31.356745  \n",
       "2013-01-07  102.033867  21.411921  31.227875  \n",
       "2013-01-08  101.949684  21.451403  30.592144  \n",
       "\n",
       "[5 rows x 98 columns]"
      ]
     },
     "execution_count": 35,
     "metadata": {},
     "output_type": "execute_result"
    }
   ],
   "source": [
    "# Load data\n",
    "stocks_data = pd.read_pickle('data/nasdaq100_6y.pkl')  #datos de acciones de nasdaq\n",
    "index_data = pd.read_pickle('data/nasdaq100_index_6y.pkl') #datos del indice nasdaq\n",
    "assets_names = stocks_data.columns.values\n",
    "\n",
    "data_assets = stocks_data\n",
    "data_index = index_data\n",
    "\n",
    "print(\"Datos de Acciones (series de tiempo) shape: {shape}\".format(shape=stocks_data.shape))\n",
    "print(\"Datos del Indice (serie de tiempo) shape: {shape}\".format(shape=index_data.shape))\n",
    "\n",
    "stocks_data.head()"
   ]
  },
  {
   "cell_type": "code",
   "execution_count": 36,
   "metadata": {},
   "outputs": [],
   "source": [
    "# Split data\n",
    "n_train = int(data_assets.shape[0]*0.8)  #el elemento correspondiente al 80%\n",
    "\n",
    "# Stocks data\n",
    "X_train = data_assets.values[:n_train, :] #se elige el 80% de los datos para train\n",
    "X_test = data_assets.values[n_train:, :] #los ultimos 20% de datos para test\n",
    "\n",
    "# Index data\n",
    "index_train = data_index[:n_train]\n",
    "index_test = data_index[n_train:]"
   ]
  },
  {
   "cell_type": "code",
   "execution_count": 37,
   "metadata": {},
   "outputs": [],
   "source": [
    "# Instancia para reescalar los datos\n",
    "scaler = MinMaxScaler([0, 1])  #  Objeto escalador\n",
    "# reescalar los datos de las acciones del índice\n",
    "X_train = scaler.fit_transform(X_train)  #se reescalan los datos train entre 0 y 1 con la libreria de sklearn.\n",
    "X_test = scaler.fit_transform(X_test)  #se reescalan los datos test entre 0 y 1 con la libreria de sklearn.\n",
    "# reescalar los datos del índice\n",
    "scaler_index = MinMaxScaler([0, 1])  \n",
    "index_train = scaler_index.fit_transform(index_train[:, np.newaxis])\n",
    "index_test = scaler_index.fit_transform(index_test[:, np.newaxis])"
   ]
  },
  {
   "cell_type": "code",
   "execution_count": 38,
   "metadata": {},
   "outputs": [],
   "source": [
    "## Autoencoder - Keras\n",
    "\n",
    "# Network hyperparameters\n",
    "n_inputs = X_train.shape[1]\n",
    "\n",
    "# Training hyperparameters\n",
    "epochs = 50\n",
    "batch_size = 2\n",
    "\n",
    "# Define model\n",
    "input = Input(shape=(n_inputs,))\n",
    "# Encoder Layers\n",
    "encoded = Dense(8, input_shape=(n_inputs,), activation='relu')(input)\n",
    "encoded = Dense(4, activation='relu')(encoded)\n",
    "decoded = Dense(8, activation='relu')(encoded)\n",
    "decoded = Dense(n_inputs, activation='sigmoid')(decoded)\n",
    "\n",
    "# Encoder\n",
    "encoder = Model(input, encoded)\n",
    "\n",
    "# Autoencoder\n",
    "model = Model(input, decoded)"
   ]
  },
  {
   "cell_type": "code",
   "execution_count": 39,
   "metadata": {},
   "outputs": [
    {
     "name": "stdout",
     "output_type": "stream",
     "text": [
      "Model: \"model_4\"\n",
      "_________________________________________________________________\n",
      "Layer (type)                 Output Shape              Param #   \n",
      "=================================================================\n",
      "input_2 (InputLayer)         (None, 98)                0         \n",
      "_________________________________________________________________\n",
      "dense_5 (Dense)              (None, 8)                 792       \n",
      "_________________________________________________________________\n",
      "dense_6 (Dense)              (None, 4)                 36        \n",
      "_________________________________________________________________\n",
      "dense_7 (Dense)              (None, 8)                 40        \n",
      "_________________________________________________________________\n",
      "dense_8 (Dense)              (None, 98)                882       \n",
      "=================================================================\n",
      "Total params: 1,750\n",
      "Trainable params: 1,750\n",
      "Non-trainable params: 0\n",
      "_________________________________________________________________\n"
     ]
    }
   ],
   "source": [
    "model.summary()"
   ]
  },
  {
   "cell_type": "code",
   "execution_count": 40,
   "metadata": {},
   "outputs": [
    {
     "name": "stdout",
     "output_type": "stream",
     "text": [
      "Model: \"model_3\"\n",
      "_________________________________________________________________\n",
      "Layer (type)                 Output Shape              Param #   \n",
      "=================================================================\n",
      "input_2 (InputLayer)         (None, 98)                0         \n",
      "_________________________________________________________________\n",
      "dense_5 (Dense)              (None, 8)                 792       \n",
      "_________________________________________________________________\n",
      "dense_6 (Dense)              (None, 4)                 36        \n",
      "=================================================================\n",
      "Total params: 828\n",
      "Trainable params: 828\n",
      "Non-trainable params: 0\n",
      "_________________________________________________________________\n"
     ]
    }
   ],
   "source": [
    "encoder.summary()"
   ]
  },
  {
   "cell_type": "code",
   "execution_count": 41,
   "metadata": {},
   "outputs": [],
   "source": [
    "# Compile autoencoder\n",
    "model.compile(loss='mse', optimizer='adam')"
   ]
  },
  {
   "cell_type": "code",
   "execution_count": 42,
   "metadata": {},
   "outputs": [
    {
     "name": "stdout",
     "output_type": "stream",
     "text": [
      "Epoch 1/50\n",
      "1208/1208 [==============================] - 2s 1ms/step - loss: 0.0490\n",
      "Epoch 2/50\n",
      "1208/1208 [==============================] - 2s 1ms/step - loss: 0.0188\n",
      "Epoch 3/50\n",
      "1208/1208 [==============================] - 2s 1ms/step - loss: 0.0141\n",
      "Epoch 4/50\n",
      "1208/1208 [==============================] - 2s 1ms/step - loss: 0.0126\n",
      "Epoch 5/50\n",
      "1208/1208 [==============================] - 2s 1ms/step - loss: 0.0118\n",
      "Epoch 6/50\n",
      "1208/1208 [==============================] - 2s 1ms/step - loss: 0.0112\n",
      "Epoch 7/50\n",
      "1208/1208 [==============================] - 2s 1ms/step - loss: 0.0107\n",
      "Epoch 8/50\n",
      "1208/1208 [==============================] - 2s 1ms/step - loss: 0.0102\n",
      "Epoch 9/50\n",
      "1208/1208 [==============================] - 2s 1ms/step - loss: 0.0097\n",
      "Epoch 10/50\n",
      "1208/1208 [==============================] - 2s 1ms/step - loss: 0.0091\n",
      "Epoch 11/50\n",
      "1208/1208 [==============================] - 2s 1ms/step - loss: 0.0084\n",
      "Epoch 12/50\n",
      "1208/1208 [==============================] - 2s 1ms/step - loss: 0.0078\n",
      "Epoch 13/50\n",
      "1208/1208 [==============================] - 2s 1ms/step - loss: 0.0074\n",
      "Epoch 14/50\n",
      "1208/1208 [==============================] - 2s 1ms/step - loss: 0.0070\n",
      "Epoch 15/50\n",
      "1208/1208 [==============================] - 2s 1ms/step - loss: 0.0067\n",
      "Epoch 16/50\n",
      "1208/1208 [==============================] - 2s 1ms/step - loss: 0.0065\n",
      "Epoch 17/50\n",
      "1208/1208 [==============================] - 2s 1ms/step - loss: 0.0063\n",
      "Epoch 18/50\n",
      "1208/1208 [==============================] - 2s 1ms/step - loss: 0.0062\n",
      "Epoch 19/50\n",
      "1208/1208 [==============================] - 2s 1ms/step - loss: 0.0061\n",
      "Epoch 20/50\n",
      "1208/1208 [==============================] - 2s 1ms/step - loss: 0.0060\n",
      "Epoch 21/50\n",
      "1208/1208 [==============================] - 2s 1ms/step - loss: 0.0060\n",
      "Epoch 22/50\n",
      "1208/1208 [==============================] - 2s 2ms/step - loss: 0.0059\n",
      "Epoch 23/50\n",
      "1208/1208 [==============================] - 2s 1ms/step - loss: 0.0059\n",
      "Epoch 24/50\n",
      "1208/1208 [==============================] - 2s 1ms/step - loss: 0.0059\n",
      "Epoch 25/50\n",
      "1208/1208 [==============================] - 2s 1ms/step - loss: 0.0059\n",
      "Epoch 26/50\n",
      "1208/1208 [==============================] - 2s 1ms/step - loss: 0.0058\n",
      "Epoch 27/50\n",
      "1208/1208 [==============================] - 2s 1ms/step - loss: 0.0058\n",
      "Epoch 28/50\n",
      "1208/1208 [==============================] - 2s 1ms/step - loss: 0.0058\n",
      "Epoch 29/50\n",
      "1208/1208 [==============================] - 2s 1ms/step - loss: 0.0058\n",
      "Epoch 30/50\n",
      "1208/1208 [==============================] - 2s 1ms/step - loss: 0.0058\n",
      "Epoch 31/50\n",
      "1208/1208 [==============================] - 2s 1ms/step - loss: 0.0058\n",
      "Epoch 32/50\n",
      "1208/1208 [==============================] - 2s 1ms/step - loss: 0.0058\n",
      "Epoch 33/50\n",
      "1208/1208 [==============================] - 2s 1ms/step - loss: 0.0057\n",
      "Epoch 34/50\n",
      "1208/1208 [==============================] - 2s 1ms/step - loss: 0.0057\n",
      "Epoch 35/50\n",
      "1208/1208 [==============================] - 2s 1ms/step - loss: 0.0057\n",
      "Epoch 36/50\n",
      "1208/1208 [==============================] - 2s 1ms/step - loss: 0.0057\n",
      "Epoch 37/50\n",
      "1208/1208 [==============================] - 2s 1ms/step - loss: 0.0057\n",
      "Epoch 38/50\n",
      "1208/1208 [==============================] - 2s 1ms/step - loss: 0.0057\n",
      "Epoch 39/50\n",
      "1208/1208 [==============================] - 2s 1ms/step - loss: 0.0057\n",
      "Epoch 40/50\n",
      "1208/1208 [==============================] - 2s 1ms/step - loss: 0.0057\n",
      "Epoch 41/50\n",
      "1208/1208 [==============================] - 2s 1ms/step - loss: 0.0057\n",
      "Epoch 42/50\n",
      "1208/1208 [==============================] - 2s 2ms/step - loss: 0.0057\n",
      "Epoch 43/50\n",
      "1208/1208 [==============================] - 2s 2ms/step - loss: 0.0057\n",
      "Epoch 44/50\n",
      "1208/1208 [==============================] - 2s 1ms/step - loss: 0.0057\n",
      "Epoch 45/50\n",
      "1208/1208 [==============================] - 2s 1ms/step - loss: 0.0057\n",
      "Epoch 46/50\n",
      "1208/1208 [==============================] - 2s 1ms/step - loss: 0.0057\n",
      "Epoch 47/50\n",
      "1208/1208 [==============================] - 2s 1ms/step - loss: 0.0056\n",
      "Epoch 48/50\n",
      "1208/1208 [==============================] - 2s 2ms/step - loss: 0.0056\n",
      "Epoch 49/50\n",
      "1208/1208 [==============================] - 2s 2ms/step - loss: 0.0056\n",
      "Epoch 50/50\n",
      "1208/1208 [==============================] - 2s 1ms/step - loss: 0.0057\n"
     ]
    }
   ],
   "source": [
    "# Fit the model\n",
    "history = model.fit(X_train,\n",
    "                    X_train,\n",
    "                    epochs=epochs,\n",
    "                    batch_size=batch_size,\n",
    "                    shuffle=True,\n",
    "                    verbose=1\n",
    "                    )"
   ]
  },
  {
   "cell_type": "code",
   "execution_count": 43,
   "metadata": {},
   "outputs": [
    {
     "data": {
      "image/png": "[encoded data removed]",
      "text/plain": [
       "<Figure size 432x288 with 1 Axes>"
      ]
     },
     "metadata": {
      "needs_background": "light"
     },
     "output_type": "display_data"
    }
   ],
   "source": [
    "# Visualize loss history\n",
    "plt.figure()\n",
    "plt.plot(history.history['loss'])\n",
    "plt.ylabel('Loss')\n",
    "plt.xlabel('Epoch')\n",
    "plt.show()"
   ]
  },
  {
   "cell_type": "code",
   "execution_count": 44,
   "metadata": {},
   "outputs": [
    {
     "data": {
      "text/plain": [
       "<Figure size 432x288 with 0 Axes>"
      ]
     },
     "metadata": {},
     "output_type": "display_data"
    }
   ],
   "source": [
    "plt.savefig('images/DAE_loss.eps', bbox_inches='tight')"
   ]
  },
  {
   "cell_type": "code",
   "execution_count": 45,
   "metadata": {},
   "outputs": [
    {
     "name": "stdout",
     "output_type": "stream",
     "text": [
      "1208/1208 [==============================] - 1s 506us/step\n",
      "302/302 [==============================] - 0s 545us/step\n",
      "Training MSE: 0.00564642\n",
      "Test MSE: 0.09125091\n"
     ]
    }
   ],
   "source": [
    "# Evaluate model\n",
    "score_train = model.evaluate(X_train, X_train, batch_size=batch_size)\n",
    "score_test = model.evaluate(X_test, X_test, batch_size=batch_size)\n",
    "\n",
    "print('Training MSE: %.8f' %score_train)\n",
    "print('Test MSE: %.8f' %score_test)"
   ]
  },
  {
   "cell_type": "code",
   "execution_count": 46,
   "metadata": {},
   "outputs": [
    {
     "name": "stdout",
     "output_type": "stream",
     "text": [
      "Training MSE: 0.00564642\n",
      "Testing MSE: 0.09125091\n"
     ]
    }
   ],
   "source": [
    "# Obtain reconstruction of the stocks\n",
    "X_train_pred = model.predict(X_train)\n",
    "X_test_pred = model.predict(X_test)\n",
    "\n",
    "error = np.mean(np.abs(X_train - X_train_pred)**2, axis=0)\n",
    "print('Training MSE: %.8f' %np.mean(error))\n",
    "\n",
    "error_test = np.mean(np.abs(X_test - X_test_pred)**2, axis=0)\n",
    "print('Testing MSE: %.8f' %np.mean(error_test))"
   ]
  },
  {
   "cell_type": "code",
   "execution_count": 47,
   "metadata": {},
   "outputs": [],
   "source": [
    "# Sort stocks by reconstruction error\n",
    "ind = np.argsort(error)\n",
    "sort_error = error[ind]\n",
    "sort_assets_names = assets_names[ind]"
   ]
  },
  {
   "cell_type": "code",
   "execution_count": 48,
   "metadata": {},
   "outputs": [
    {
     "data": {
      "image/png": "[encoded data removed]",
      "text/plain": [
       "<Figure size 432x288 with 1 Axes>"
      ]
     },
     "metadata": {
      "needs_background": "light"
     },
     "output_type": "display_data"
    }
   ],
   "source": [
    "# Barplot\n",
    "plt.figure()\n",
    "plt.barh(2*np.arange(len(error[:20])), error[ind[:20]], tick_label=assets_names[ind[:20]])\n",
    "plt.xlabel('MSE')\n",
    "plt.show()\n",
    "#plt.savefig('images/DAE_MSEbar.eps', bbox_inches='tight')"
   ]
  },
  {
   "cell_type": "code",
   "execution_count": 49,
   "metadata": {},
   "outputs": [
    {
     "data": {
      "image/png": "[encoded data removed]",
      "text/plain": [
       "<Figure size 432x288 with 1 Axes>"
      ]
     },
     "metadata": {
      "needs_background": "light"
     },
     "output_type": "display_data"
    }
   ],
   "source": [
    "# Plot stock\n",
    "i=0\n",
    "plt.figure()\n",
    "plt.plot(X_train[:, ind[i]], label=assets_names[ind[i]] + ' Stock')\n",
    "plt.plot(X_train_pred[:, ind[i]], label=assets_names[ind[i]] + ' AE')\n",
    "plt.legend()\n",
    "plt.xlabel('Time (days)')\n",
    "plt.ylabel('Normalized price')\n",
    "plt.show()"
   ]
  },
  {
   "cell_type": "code",
   "execution_count": 50,
   "metadata": {},
   "outputs": [],
   "source": [
    "# Identify stocks\n",
    "n = 5\n",
    "\n",
    "portfolio_train = X_train_pred[:, ind[:n]]\n",
    "portfolio_test = X_test_pred[:, ind[:n]]\n",
    "\n",
    "# Create portfolio in-sample\n",
    "tracked_index_insample = np.mean(portfolio_train, axis=1)\n",
    "\n",
    "# Create portfolio out-sample\n",
    "tracked_index_outofsample = np.mean(portfolio_test, axis=1)"
   ]
  },
  {
   "cell_type": "code",
   "execution_count": 51,
   "metadata": {},
   "outputs": [
    {
     "data": {
      "image/png": "[encoded data removed]",
      "text/plain": [
       "<Figure size 432x288 with 1 Axes>"
      ]
     },
     "metadata": {
      "needs_background": "light"
     },
     "output_type": "display_data"
    }
   ],
   "source": [
    "# In-sample\n",
    "plt.figure()\n",
    "plt.plot(index_train, label='Nasdaq100 Index')\n",
    "plt.plot(tracked_index_insample, label='Tracked Index')\n",
    "plt.legend()\n",
    "plt.xlabel('Time (days)')\n",
    "plt.ylabel('Normalized price')\n",
    "plt.show()"
   ]
  },
  {
   "cell_type": "code",
   "execution_count": 52,
   "metadata": {},
   "outputs": [
    {
     "name": "stdout",
     "output_type": "stream",
     "text": [
      "Correlation coefficient (in-sample): 0.95339313\n"
     ]
    }
   ],
   "source": [
    "# Correlation coefficient (in-sample)\n",
    "corr_train = np.corrcoef(index_train.squeeze(), tracked_index_insample)[0, 1]\n",
    "print('Correlation coefficient (in-sample): %.8f' %corr_train)"
   ]
  },
  {
   "cell_type": "code",
   "execution_count": 53,
   "metadata": {},
   "outputs": [
    {
     "data": {
      "image/png": "[encoded data removed]",
      "text/plain": [
       "<Figure size 432x288 with 1 Axes>"
      ]
     },
     "metadata": {
      "needs_background": "light"
     },
     "output_type": "display_data"
    }
   ],
   "source": [
    "# Plot tracked index (out-of-sample)\n",
    "plt.figure()\n",
    "plt.plot(index_test, label='Nasdaq100 Index')\n",
    "plt.plot(tracked_index_outofsample, label='Tracked Index')\n",
    "plt.legend()\n",
    "plt.xlabel('Time (days)')\n",
    "plt.ylabel('Normalized price')\n",
    "plt.show()"
   ]
  },
  {
   "cell_type": "code",
   "execution_count": 54,
   "metadata": {},
   "outputs": [
    {
     "name": "stdout",
     "output_type": "stream",
     "text": [
      "Correlation coefficient: 0.88595847\n"
     ]
    }
   ],
   "source": [
    "# Correlation coefficient (out-of-sample)\n",
    "corr_test = np.corrcoef(index_test.squeeze(), tracked_index_outofsample)[0, 1]\n",
    "print('Correlation coefficient: %.8f' %corr_test)"
   ]
  },
  {
   "cell_type": "code",
   "execution_count": null,
   "metadata": {},
   "outputs": [],
   "source": []
  }
 ],
 "metadata": {
  "kernelspec": {
   "display_name": "Python 3",
   "language": "python",
   "name": "python3"
  },
  "language_info": {
   "codemirror_mode": {
    "name": "ipython",
    "version": 3
   },
   "file_extension": ".py",
   "mimetype": "text/x-python",
   "name": "python",
   "nbconvert_exporter": "python",
   "pygments_lexer": "ipython3",
   "version": "3.7.4"
  }
 },
 "nbformat": 4,
 "nbformat_minor": 4
}
